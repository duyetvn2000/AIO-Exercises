{
  "cells": [
    {
      "cell_type": "markdown",
      "source": [
        "**Question 1**"
      ],
      "metadata": {
        "id": "N8_B7oU1C2yz"
      },
      "id": "N8_B7oU1C2yz"
    },
    {
      "cell_type": "code",
      "execution_count": null,
      "id": "44f816af-2639-44da-9347-9b26fe772735",
      "metadata": {
        "colab": {
          "base_uri": "https://localhost:8080/"
        },
        "id": "44f816af-2639-44da-9347-9b26fe772735",
        "outputId": "1f28f6ad-91ae-4733-d68e-25179039907d"
      },
      "outputs": [
        {
          "output_type": "stream",
          "name": "stdout",
          "text": [
            "[624.1, 175.10000000000002, 300.5, 78.9]\n"
          ]
        }
      ],
      "source": [
        "import numpy as np\n",
        "import matplotlib.pyplot as plt\n",
        "import random\n",
        "\n",
        "def get_column(data, index):\n",
        "  result = data[:, index]\n",
        "\n",
        "  return result\n",
        "\n",
        "def prepare_data(file_path):\n",
        "  data = np.genfromtxt(file_path, delimiter = ',', skip_header=True)\n",
        "  N= len(data)\n",
        "\n",
        "  tv_data = get_column(data, 0)\n",
        "\n",
        "  radio_data = get_column(data, 1)\n",
        "\n",
        "  newspaper_data = get_column(data, 2)\n",
        "\n",
        "  sales_data = get_column(data, 3)\n",
        "\n",
        "  X = [tv_data, radio_data, newspaper_data]\n",
        "  y = sales_data\n",
        "\n",
        "  return X, y\n",
        "\n",
        "\n",
        "X, y = prepare_data('/content/sample_data/advertising.csv')\n",
        "list = [ sum(X[0][:5]) , sum (X[1][:5]) , sum(X[2][:5]) , sum(y[:5])]\n",
        "print (list)"
      ]
    },
    {
      "cell_type": "code",
      "source": [
        "def initialize_params():\n",
        "  w1 , w2 , w3 , b = (0.016992259082509283 , 0.0070783670518262355 , -0.002307860847821344 , 0)\n",
        "\n",
        "  return w1, w2, w3, b\n",
        "\n",
        "'''\n",
        "w1 = random.gauss(mu = 0.0, sigma =0.01)\n",
        "'''\n",
        "def predict(x1, x2, x3, w1, w2, w3, b):\n",
        "  return x1 * w1 + x2 * w2 + x3 * w3 + b\n",
        "\n",
        "def compute_loss(y_hat, y):\n",
        "  return (y_hat - y)**2\n",
        "\n",
        "def compute_loss_mae(y_hat, y):\n",
        "  return np.abs(y_hat - y)\n",
        "\n",
        "def compute_gradient_wi(xi, y, y_hat):\n",
        "  dl_dwi = 2 * xi * (y_hat - y)\n",
        "\n",
        "  return dl_dwi\n",
        "\n",
        "def compute_gradient_b(y, y_hat):\n",
        "  return 2 * (y_hat - y)\n",
        "\n",
        "def update_weight_wi(wi, dl_dwi, lr):\n",
        "  return wi - lr * dl_dwi\n",
        "\n",
        "def update_weight_b(b, dl_db, lr):\n",
        "  return b - lr * dl_db"
      ],
      "metadata": {
        "id": "0dWmd7nu7nc-"
      },
      "id": "0dWmd7nu7nc-",
      "execution_count": null,
      "outputs": []
    },
    {
      "cell_type": "markdown",
      "source": [
        "**Question 2**"
      ],
      "metadata": {
        "id": "xiXiwbELJ_QV"
      },
      "id": "xiXiwbELJ_QV"
    },
    {
      "cell_type": "code",
      "source": [
        "y = predict(x1 =1 , x2 =1 , x3 =1 , w1 =0 , w2 =0.5 , w3 =0 , b =0.5)\n",
        "print(y)"
      ],
      "metadata": {
        "colab": {
          "base_uri": "https://localhost:8080/"
        },
        "id": "_2eNkFo9KKqy",
        "outputId": "2a20af3d-ab10-439d-deba-e46157d5ba6b"
      },
      "id": "_2eNkFo9KKqy",
      "execution_count": null,
      "outputs": [
        {
          "output_type": "stream",
          "name": "stdout",
          "text": [
            "1.0\n"
          ]
        }
      ]
    },
    {
      "cell_type": "markdown",
      "source": [
        "**Question 3**"
      ],
      "metadata": {
        "id": "PEz-EejwKd-d"
      },
      "id": "PEz-EejwKd-d"
    },
    {
      "cell_type": "code",
      "source": [
        "l = compute_lost(y_hat =1 , y =0.5)\n",
        "print(l)\n",
        "\n",
        "## =>>> A"
      ],
      "metadata": {
        "colab": {
          "base_uri": "https://localhost:8080/",
          "height": 190
        },
        "id": "U_Y-Z51iKSTa",
        "outputId": "16c9c49e-6007-47b4-b14a-77a1ea28cc6a"
      },
      "id": "U_Y-Z51iKSTa",
      "execution_count": null,
      "outputs": [
        {
          "output_type": "error",
          "ename": "NameError",
          "evalue": "name 'compute_lost' is not defined",
          "traceback": [
            "\u001b[0;31m---------------------------------------------------------------------------\u001b[0m",
            "\u001b[0;31mNameError\u001b[0m                                 Traceback (most recent call last)",
            "\u001b[0;32m<ipython-input-4-239235e78c49>\u001b[0m in \u001b[0;36m<cell line: 1>\u001b[0;34m()\u001b[0m\n\u001b[0;32m----> 1\u001b[0;31m \u001b[0ml\u001b[0m \u001b[0;34m=\u001b[0m \u001b[0mcompute_lost\u001b[0m\u001b[0;34m(\u001b[0m\u001b[0my_hat\u001b[0m \u001b[0;34m=\u001b[0m\u001b[0;36m1\u001b[0m \u001b[0;34m,\u001b[0m \u001b[0my\u001b[0m \u001b[0;34m=\u001b[0m\u001b[0;36m0.5\u001b[0m\u001b[0;34m)\u001b[0m\u001b[0;34m\u001b[0m\u001b[0;34m\u001b[0m\u001b[0m\n\u001b[0m\u001b[1;32m      2\u001b[0m \u001b[0mprint\u001b[0m\u001b[0;34m(\u001b[0m\u001b[0ml\u001b[0m\u001b[0;34m)\u001b[0m\u001b[0;34m\u001b[0m\u001b[0;34m\u001b[0m\u001b[0m\n\u001b[1;32m      3\u001b[0m \u001b[0;34m\u001b[0m\u001b[0m\n\u001b[1;32m      4\u001b[0m \u001b[0;31m## =>>> A\u001b[0m\u001b[0;34m\u001b[0m\u001b[0;34m\u001b[0m\u001b[0m\n",
            "\u001b[0;31mNameError\u001b[0m: name 'compute_lost' is not defined"
          ]
        }
      ]
    },
    {
      "cell_type": "markdown",
      "source": [
        "**Question 4**"
      ],
      "metadata": {
        "id": "bBvCP7xNO93W"
      },
      "id": "bBvCP7xNO93W"
    },
    {
      "cell_type": "code",
      "source": [
        "g_wi = compute_gradient_wi(xi =1.0 , y =1.0 , y_hat =0.5)\n",
        "print(g_wi)\n",
        "\n",
        "# =>>> A"
      ],
      "metadata": {
        "id": "B8a399fTKnLE"
      },
      "id": "B8a399fTKnLE",
      "execution_count": null,
      "outputs": []
    },
    {
      "cell_type": "markdown",
      "source": [
        "**Question 5**"
      ],
      "metadata": {
        "id": "0zHdRvMwPOBc"
      },
      "id": "0zHdRvMwPOBc"
    },
    {
      "cell_type": "code",
      "source": [
        "g_b = compute_gradient_b(y =2.0 , y_hat =0.5)\n",
        "print(g_b)\n",
        "\n",
        "## =>>> B"
      ],
      "metadata": {
        "id": "mw0lT8xqPI1_"
      },
      "id": "mw0lT8xqPI1_",
      "execution_count": null,
      "outputs": []
    },
    {
      "cell_type": "markdown",
      "source": [
        "**Question 6**"
      ],
      "metadata": {
        "id": "c3vV52e2PZtH"
      },
      "id": "c3vV52e2PZtH"
    },
    {
      "cell_type": "code",
      "source": [
        "after_wi = update_weight_wi(wi =1.0 , dl_dwi = -0.5 , lr = 1e-5)\n",
        "print(after_wi)\n",
        "\n",
        "# =>>> A"
      ],
      "metadata": {
        "id": "Lta48hg3PVKi"
      },
      "id": "Lta48hg3PVKi",
      "execution_count": null,
      "outputs": []
    },
    {
      "cell_type": "markdown",
      "source": [
        "**Question 7**"
      ],
      "metadata": {
        "id": "TE91rsN1P2I4"
      },
      "id": "TE91rsN1P2I4"
    },
    {
      "cell_type": "code",
      "source": [
        "after_b = update_weight_b(b =0.5 , dl_db = -1.0 , lr = 1e-5)\n",
        "print(after_b)\n",
        "\n",
        "## ===> A"
      ],
      "metadata": {
        "id": "uG7INZhTPkOI"
      },
      "id": "uG7INZhTPkOI",
      "execution_count": null,
      "outputs": []
    },
    {
      "cell_type": "code",
      "source": [
        "def implement_linear_regression(X_data, y_data, epoch_max = 50, lr = 1e-5):\n",
        "  w1, w2, w3, b = initialize_params()\n",
        "\n",
        "  N = len(y_data)\n",
        "\n",
        "  losses = []\n",
        "\n",
        "  for epoch in range(epoch_max):\n",
        "    for i in range(N):\n",
        "      x1 = X_data[0][i]\n",
        "      x2 = X_data[1][i]\n",
        "      x3 = X_data[2][i]\n",
        "\n",
        "      y = y_data[i]\n",
        "\n",
        "      y_hat = predict(x1, x2, x3, w1, w2, w3, b)\n",
        "\n",
        "      loss = compute_loss(y_hat, y)\n",
        "\n",
        "\n",
        "      dl_dw1 = compute_gradient_wi(x1, y, y_hat)\n",
        "      dl_dw2 = compute_gradient_wi(x2, y, y_hat)\n",
        "      dl_dw3 = compute_gradient_wi(x3, y, y_hat)\n",
        "\n",
        "      dl_db = compute_gradient_b(y, y_hat)\n",
        "\n",
        "      #Update\n",
        "      w1 = update_weight_wi(w1, dl_dw1, lr)\n",
        "      w2 = update_weight_wi(w2, dl_dw2, lr)\n",
        "      w3 = update_weight_wi(w3, dl_dw3, lr)\n",
        "\n",
        "      b = update_weight_b(b, dl_db, lr)\n",
        "\n",
        "      losses.append(loss)\n",
        "\n",
        "  return (w1, w2, w3, b, losses)"
      ],
      "metadata": {
        "id": "lxPnfYzXSJSB"
      },
      "id": "lxPnfYzXSJSB",
      "execution_count": null,
      "outputs": []
    },
    {
      "cell_type": "code",
      "source": [
        "(w1, w2, w3, b, losses) = implement_linear_regression(X, y)\n",
        "plt.plot(losses[:100])\n",
        "plt.xlabel(\"#iteration\")\n",
        "plt.ylabel(\"Loss\")\n",
        "plt.show()"
      ],
      "metadata": {
        "colab": {
          "base_uri": "https://localhost:8080/",
          "height": 449
        },
        "id": "a-VPWNZ6VAj9",
        "outputId": "6b16afc2-586f-4af8-b5c1-c536744e7d43"
      },
      "id": "a-VPWNZ6VAj9",
      "execution_count": null,
      "outputs": [
        {
          "output_type": "display_data",
          "data": {
            "text/plain": [
              "<Figure size 640x480 with 1 Axes>"
            ],
            "image/png": "[encoded data removed]"
          },
          "metadata": {}
        }
      ]
    },
    {
      "cell_type": "markdown",
      "source": [
        "**Question 8**"
      ],
      "metadata": {
        "id": "ehtp4tH-a94d"
      },
      "id": "ehtp4tH-a94d"
    },
    {
      "cell_type": "code",
      "source": [
        "X, y = prepare_data('/content/sample_data/advertising.csv')\n",
        "(w1, w2, w3, b, losses) = implement_linear_regression(X, y)\n",
        "print(w1, w2, w3)\n",
        "\n",
        "# =>> A"
      ],
      "metadata": {
        "colab": {
          "base_uri": "https://localhost:8080/"
        },
        "id": "JF-fkLmUVAhE",
        "outputId": "b57a2bdb-435b-420c-97d7-afabc1fa6acc"
      },
      "id": "JF-fkLmUVAhE",
      "execution_count": null,
      "outputs": [
        {
          "output_type": "stream",
          "name": "stdout",
          "text": [
            "0.07405984066396477 0.15917360263437663 0.017561197559948935\n"
          ]
        }
      ]
    },
    {
      "cell_type": "markdown",
      "source": [
        "**Question 9**"
      ],
      "metadata": {
        "id": "vn_XP6kmyboM"
      },
      "id": "vn_XP6kmyboM"
    },
    {
      "cell_type": "code",
      "source": [
        "tv = 19.2\n",
        "radio = 35.9\n",
        "newspaper = 51.3\n",
        "\n",
        "X , y = prepare_data('/content/sample_data/advertising.csv')\n",
        "(w1 , w2 , w3 ,b , losses) = implement_linear_regression(X , y , epoch_max =50 , lr =1e-5)\n",
        "sales = predict( tv , radio , newspaper , w1 , w2 , w3 , b )\n",
        "print (f'predicted sales is {sales }')\n",
        "\n",
        "# ====> B"
      ],
      "metadata": {
        "colab": {
          "base_uri": "https://localhost:8080/"
        },
        "id": "EMR7djIQWqGV",
        "outputId": "a8706208-5da2-4716-ded5-133f9d964a36"
      },
      "id": "EMR7djIQWqGV",
      "execution_count": null,
      "outputs": [
        {
          "output_type": "stream",
          "name": "stdout",
          "text": [
            "predicted sales is 8.176413319549823\n"
          ]
        }
      ]
    },
    {
      "cell_type": "markdown",
      "source": [
        "**Question 10**"
      ],
      "metadata": {
        "id": "P7-F1IB1y54L"
      },
      "id": "P7-F1IB1y54L"
    },
    {
      "cell_type": "code",
      "source": [
        "def implement_linear_regression_mae(X_data, y_data, epoch_max = 50, lr = 1e-5):\n",
        "  w1, w2, w3, b = initialize_params()\n",
        "\n",
        "  N = len(y_data)\n",
        "\n",
        "  losses = []\n",
        "\n",
        "  for epoch in range(epoch_max):\n",
        "    for i in range(N):\n",
        "      x1 = X_data[0][i]\n",
        "      x2 = X_data[1][i]\n",
        "      x3 = X_data[2][i]\n",
        "\n",
        "      y = y_data[i]\n",
        "\n",
        "      y_hat = predict(x1, x2, x3, w1, w2, w3, b)\n",
        "\n",
        "      loss = compute_loss_mae(y_hat, y)\n",
        "\n",
        "\n",
        "      dl_dw1 = compute_gradient_wi(x1, y, y_hat)\n",
        "      dl_dw2 = compute_gradient_wi(x2, y, y_hat)\n",
        "      dl_dw3 = compute_gradient_wi(x3, y, y_hat)\n",
        "\n",
        "      dl_db = compute_gradient_b(y, y_hat)\n",
        "\n",
        "      #Update\n",
        "      w1 = update_weight_wi(w1, dl_dw1, lr)\n",
        "      w2 = update_weight_wi(w2, dl_dw2, lr)\n",
        "      w3 = update_weight_wi(w3, dl_dw3, lr)\n",
        "\n",
        "      b = update_weight_b(b, dl_db, lr)\n",
        "\n",
        "      losses.append(loss)\n",
        "\n",
        "  return (w1, w2, w3, b, losses)\n",
        "\n",
        "\n",
        "(w1, w2, w3, b, losses) = implement_linear_regression_mae(X, y)\n",
        "plt.plot(losses[:100])\n",
        "plt.xlabel(\"#iteration\")\n",
        "plt.ylabel(\"Loss\")\n",
        "plt.show()\n",
        "\n",
        "l = compute_loss_mae(y_hat =1 , y =0.5)\n",
        "print(l)\n",
        "\n",
        "# ===> A"
      ],
      "metadata": {
        "colab": {
          "base_uri": "https://localhost:8080/",
          "height": 466
        },
        "id": "YXEOjQJTdbXt",
        "outputId": "b043f130-1786-4174-b564-01d96595f41b"
      },
      "id": "YXEOjQJTdbXt",
      "execution_count": null,
      "outputs": [
        {
          "output_type": "display_data",
          "data": {
            "text/plain": [
              "<Figure size 640x480 with 1 Axes>"
            ],
            "image/png": "[encoded data removed]"
          },
          "metadata": {}
        },
        {
          "output_type": "stream",
          "name": "stdout",
          "text": [
            "0.5\n"
          ]
        }
      ]
    },
    {
      "cell_type": "code",
      "source": [
        "def implement_linear_regression_nsamples(X_data, y_data, epoch_max =50,lr = 1e-5):\n",
        "  losses = []\n",
        "\n",
        "  w1, w2, w3, b = initialize_params()\n",
        "  N = len(y_data)\n",
        "\n",
        "  for epoch in range(epoch_max):\n",
        "\n",
        "      loss_total = 0.0\n",
        "      dw1_total = 0.0\n",
        "      dw2_total = 0.0\n",
        "      dw3_total = 0.0\n",
        "      db_total  = 0.0\n",
        "\n",
        "      for i in range(N):\n",
        "          # get a sample\n",
        "          x1 = X_data[0][i]\n",
        "          x2 = X_data[1][i]\n",
        "          x3 = X_data[2][i]\n",
        "\n",
        "          y  = y_data[i]\n",
        "\n",
        "          y_hat = predict(x1, x2, x3, w1, w2, w3, b)\n",
        "\n",
        "\n",
        "          loss = compute_loss(y_hat, y)\n",
        "\n",
        "          # accumulate loss to total loss\n",
        "          loss_total += loss\n",
        "\n",
        "          # compute gradient w1, w2, w3, b\n",
        "          dl_dw1 = compute_gradient_wi(x1, y, y_hat)\n",
        "          dl_dw2 = compute_gradient_wi(x2, y, y_hat)\n",
        "          dl_dw3 = compute_gradient_wi(x3, y, y_hat)\n",
        "          dl_db  = compute_gradient_b(y, y_hat)\n",
        "\n",
        "          # accumulate gradient w1, w2, w3, b\n",
        "          dw1_total += dl_dw1\n",
        "          dw2_total += dl_dw2\n",
        "          dw3_total += dl_dw3\n",
        "          db_total += dl_db\n",
        "\n",
        "      # (after processing N samples) - update parameters\n",
        "      #your code here *****************************\n",
        "      w1 = update_weight_wi(w1, dw1_total / N, lr)\n",
        "      w2 = update_weight_wi(w2, dw2_total / N, lr)\n",
        "      w3 = update_weight_wi(w3, dw3_total / N, lr)\n",
        "\n",
        "      b = update_weight_b(b, db_total / N, lr)\n",
        "\n",
        "      # logging\n",
        "      losses.append(loss_total/N)\n",
        "  return (w1,w2,w3,b, losses)"
      ],
      "metadata": {
        "id": "Vf_YkHul0eT0"
      },
      "id": "Vf_YkHul0eT0",
      "execution_count": null,
      "outputs": []
    },
    {
      "cell_type": "code",
      "source": [
        "X,y = prepare_data('/content/sample_data/advertising.csv')\n",
        "(w1,w2,w3,b, losses) = implement_linear_regression_nsamples(X,y,1000)\n",
        "plt.plot(losses)\n",
        "plt.xlabel(\"#epoch\")\n",
        "plt.ylabel(\"MAE Loss\")\n",
        "plt.show()"
      ],
      "metadata": {
        "colab": {
          "base_uri": "https://localhost:8080/",
          "height": 449
        },
        "id": "AcKNVlf43gfr",
        "outputId": "1b68e114-4a07-4043-bd00-1b8c125d1308"
      },
      "id": "AcKNVlf43gfr",
      "execution_count": null,
      "outputs": [
        {
          "output_type": "display_data",
          "data": {
            "text/plain": [
              "<Figure size 640x480 with 1 Axes>"
            ],
            "image/png": "[encoded data removed]"
          },
          "metadata": {}
        }
      ]
    },
    {
      "cell_type": "markdown",
      "source": [
        "**Question 11**\n"
      ],
      "metadata": {
        "id": "wOgVo-WkXX7T"
      },
      "id": "wOgVo-WkXX7T"
    },
    {
      "cell_type": "code",
      "source": [
        "X,y = prepare_data('/content/sample_data/advertising.csv')\n",
        "(w1,w2,w3,b, losses) = implement_linear_regression_nsamples(X,y,1000)\n",
        "print(w1,w2,w3)"
      ],
      "metadata": {
        "colab": {
          "base_uri": "https://localhost:8080/"
        },
        "id": "RKn2OXWz3qjT",
        "outputId": "229e7757-4f6c-4650-f896-e1a304d3a4b3"
      },
      "id": "RKn2OXWz3qjT",
      "execution_count": null,
      "outputs": [
        {
          "output_type": "stream",
          "name": "stdout",
          "text": [
            "0.06710990754044266 0.15756173831487585 0.029619799386084403\n"
          ]
        }
      ]
    },
    {
      "cell_type": "code",
      "source": [],
      "metadata": {
        "id": "lRfSkl5O4IZB"
      },
      "id": "lRfSkl5O4IZB",
      "execution_count": null,
      "outputs": []
    },
    {
      "cell_type": "markdown",
      "source": [
        "### **Exercise 4**"
      ],
      "metadata": {
        "id": "UOhIXW-3Ldrn"
      },
      "id": "UOhIXW-3Ldrn"
    },
    {
      "cell_type": "code",
      "source": [
        "import numpy as np\n",
        "import matplotlib.pyplot as plt\n",
        "\n",
        "\n",
        "def get_column(data, index):\n",
        "  result = data[:, index]\n",
        "\n",
        "  return result\n",
        "\n",
        "def prepare_data(path):\n",
        "  data = np.genfromtxt(path, delimiter= ',', skip_header = True)\n",
        "\n",
        "  tv_data = get_column(data, 0)\n",
        "\n",
        "  radio_data = get_column(data, 1)\n",
        "\n",
        "  newspaper_data = get_column(data, 2)\n",
        "\n",
        "  sales_data = get_column(data, 3)\n",
        "\n",
        "  X = [[1, x1, x2, x3] for x1, x2, x3 in zip(tv_data, radio_data, newspaper_data)]\n",
        "  Y = sales_data\n",
        "\n",
        "  return X, y"
      ],
      "metadata": {
        "id": "onv87xqQleeY"
      },
      "id": "onv87xqQleeY",
      "execution_count": null,
      "outputs": []
    },
    {
      "cell_type": "code",
      "source": [
        "def initialize_params():\n",
        "  return [0, -0.01268850433497871, 0.004752496982185252, 0.0073796171538643845]"
      ],
      "metadata": {
        "id": "oh8zNuTYLUJn"
      },
      "id": "oh8zNuTYLUJn",
      "execution_count": null,
      "outputs": []
    },
    {
      "cell_type": "code",
      "source": [
        "def predict(X_features, weights):\n",
        "  result = sum([x * w for x, w in zip(X_features, weights)])\n",
        "\n",
        "  return result\n",
        "\n",
        "def compute_loss(y_hat, y):\n",
        "  return (y_hat - y) ** 2\n",
        "\n",
        "def compute_gradient_w(X_features, y, y_hat):\n",
        "  dl_dweights = [2 * (y_hat - y) * x for x in X_features]\n",
        "\n",
        "  return dl_dweights\n",
        "\n",
        "def update_weight(weights, dl_dweights, lr):\n",
        "  weights = [w - lr * dw for w, dw in zip(weights, dl_dweights)]\n",
        "\n",
        "  return weights"
      ],
      "metadata": {
        "id": "BzgfWLJDLUHA"
      },
      "id": "BzgfWLJDLUHA",
      "execution_count": null,
      "outputs": []
    },
    {
      "cell_type": "code",
      "source": [
        "def implement_linear_regression(X_features, y_output, epoch_max = 50, lr = 1e-5):\n",
        "\n",
        "  losses = []\n",
        "  weights = initialize_params()\n",
        "  N = len(y_output)\n",
        "  for epoch in range(epoch_max):\n",
        "    for i in range(N):\n",
        "      features_i = X_features[i]\n",
        "      y = y_output[i]\n",
        "\n",
        "      y_hat = predict(features_i, weights)\n",
        "\n",
        "      loss = compute_loss(y_hat, y)\n",
        "\n",
        "      dl_dweights = compute_gradient_w(features_i, y, y_hat)\n",
        "\n",
        "      weights = update_weight(weights, dl_dweights, lr)\n",
        "\n",
        "      losses.append(loss)\n",
        "  return weights, losses\n",
        "\n",
        "X, y = prepare_data('/content/sample_data/advertising.csv')\n",
        "W,L = implement_linear_regression(X, y)\n",
        "plt.plot(L[0:100])\n",
        "plt.xlabel('#iteration')\n",
        "plt.ylabel(\"loss\")\n",
        "plt.show()"
      ],
      "metadata": {
        "id": "zMdfGb4iLUES",
        "colab": {
          "base_uri": "https://localhost:8080/",
          "height": 449
        },
        "outputId": "17bfeeec-6e4d-4fa7-cfbe-0a5908fd75a7"
      },
      "id": "zMdfGb4iLUES",
      "execution_count": null,
      "outputs": [
        {
          "output_type": "display_data",
          "data": {
            "text/plain": [
              "<Figure size 640x480 with 1 Axes>"
            ],
            "image/png": "[encoded data removed]"
          },
          "metadata": {}
        }
      ]
    },
    {
      "cell_type": "code",
      "source": [],
      "metadata": {
        "id": "3Ww-H8lyLUBl"
      },
      "id": "3Ww-H8lyLUBl",
      "execution_count": null,
      "outputs": []
    },
    {
      "cell_type": "markdown",
      "source": [
        "**Question 12**"
      ],
      "metadata": {
        "id": "PiQ-HK6aX-3_"
      },
      "id": "PiQ-HK6aX-3_"
    },
    {
      "cell_type": "code",
      "source": [
        "X, y = prepare_data('/content/sample_data/advertising.csv')\n",
        "W,L = implement_linear_regression(X, y)\n",
        "print(L[9999])\n",
        "\n",
        "# ====> A"
      ],
      "metadata": {
        "id": "ilVSF02LLT-Z",
        "colab": {
          "base_uri": "https://localhost:8080/"
        },
        "outputId": "4bfafa64-141f-4064-854a-1874673ccb43"
      },
      "id": "ilVSF02LLT-Z",
      "execution_count": null,
      "outputs": [
        {
          "output_type": "stream",
          "name": "stdout",
          "text": [
            "31.339223408109948\n"
          ]
        }
      ]
    }
  ],
  "metadata": {
    "kernelspec": {
      "display_name": "Python 3 (ipykernel)",
      "language": "python",
      "name": "python3"
    },
    "language_info": {
      "codemirror_mode": {
        "name": "ipython",
        "version": 3
      },
      "file_extension": ".py",
      "mimetype": "text/x-python",
      "name": "python",
      "nbconvert_exporter": "python",
      "pygments_lexer": "ipython3",
      "version": "3.12.3"
    },
    "colab": {
      "provenance": []
    }
  },
  "nbformat": 4,
  "nbformat_minor": 5
}